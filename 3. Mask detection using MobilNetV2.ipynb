{
 "cells": [
  {
   "cell_type": "markdown",
   "metadata": {},
   "source": [
    "* **1. Imported Needed Libraries**"
   ]
  },
  {
   "cell_type": "code",
   "execution_count": 2,
   "metadata": {},
   "outputs": [
    {
     "name": "stdout",
     "output_type": "stream",
     "text": [
      "Collecting imutils\n",
      "  Using cached imutils-0.5.4.tar.gz (17 kB)\n",
      "  Preparing metadata (setup.py): started\n",
      "  Preparing metadata (setup.py): finished with status 'done'\n",
      "Building wheels for collected packages: imutils\n",
      "  Building wheel for imutils (setup.py): started\n",
      "  Building wheel for imutils (setup.py): finished with status 'done'\n",
      "  Created wheel for imutils: filename=imutils-0.5.4-py3-none-any.whl size=25854 sha256=5e3726fee595c225df2c4be1c0e640f3d1e0e096f62b3461d54706afeb1a8260\n",
      "  Stored in directory: c:\\users\\alhou\\appdata\\local\\pip\\cache\\wheels\\31\\d0\\2c\\87ce38f6052879e5b7b18f0f8b4a10ad2a9d210e908d449f16\n",
      "Successfully built imutils\n",
      "Installing collected packages: imutils\n",
      "Successfully installed imutils-0.5.4\n"
     ]
    }
   ],
   "source": [
    "!pip install imutils"
   ]
  },
  {
   "cell_type": "code",
   "execution_count": 1,
   "metadata": {},
   "outputs": [
    {
     "name": "stdout",
     "output_type": "stream",
     "text": [
      "WARNING:tensorflow:From c:\\Users\\Alhou\\anaconda3\\Lib\\site-packages\\keras\\src\\losses.py:2976: The name tf.losses.sparse_softmax_cross_entropy is deprecated. Please use tf.compat.v1.losses.sparse_softmax_cross_entropy instead.\n",
      "\n"
     ]
    }
   ],
   "source": [
    "from tensorflow.keras.preprocessing.image import ImageDataGenerator \n",
    "from tensorflow.keras.preprocessing.image import img_to_array\n",
    "from tensorflow.keras.preprocessing.image import load_img \n",
    "from tensorflow.keras.applications import MobileNetV2\n",
    "from tensorflow.keras.layers import Flatten \n",
    "from tensorflow.keras.layers import Dense\n",
    "from tensorflow.keras.layers import AveragePooling2D\n",
    "from tensorflow.keras.layers import Dropout\n",
    "from tensorflow.keras.layers import Input\n",
    "from tensorflow.keras.models import Model\n",
    "from tensorflow.keras.optimizers import Adam\n",
    "from tensorflow.keras.applications.mobilenet_v2 import preprocess_input\n",
    "from tensorflow.keras.utils import to_categorical\n",
    "from sklearn.preprocessing import LabelBinarizer\n",
    "from sklearn.model_selection import train_test_split\n",
    "from sklearn.metrics import classification_report\n",
    "from imutils import paths\n",
    "import os \n",
    "import numpy as np \n",
    "import matplotlib.pyplot as plt "
   ]
  },
  {
   "cell_type": "markdown",
   "metadata": {},
   "source": [
    "* **Initialize The initial Learning rate**\n",
    "* **Number of epoch size for training**\n",
    "* **number of batch size**"
   ]
  },
  {
   "cell_type": "code",
   "execution_count": 2,
   "metadata": {},
   "outputs": [
    {
     "name": "stdout",
     "output_type": "stream",
     "text": [
      "[INFO] Loading Images......\n"
     ]
    },
    {
     "name": "stderr",
     "output_type": "stream",
     "text": [
      "c:\\Users\\Alhou\\anaconda3\\Lib\\site-packages\\PIL\\Image.py:996: UserWarning: Palette images with Transparency expressed in bytes should be converted to RGBA images\n",
      "  warnings.warn(\n"
     ]
    }
   ],
   "source": [
    "intial_learning_rate = 1e-4 # --> = 0.0001\n",
    "number_epochs = 20\n",
    "batch_size = 32\n",
    "Directory = r\"D:\\AI\\AI Models\\Data\\Face-Mask-Detection-master\\dataset\"\n",
    "Categories = ['with_mask','without_mask']\n",
    "print(\"[INFO] Loading Images......\")\n",
    "data =  []\n",
    "labels= []\n",
    "for category in Categories:\n",
    "    path = os.path.join(Directory,category)\n",
    "    for img in os.listdir(path):\n",
    "        img_path = os.path.join(path,img) # Enter and take all images in with_mask,without_mask\n",
    "        image = load_img(img_path,target_size=(224,224))\n",
    "        image = img_to_array(image)\n",
    "        image = preprocess_input(image)\n",
    "        data.append(image)\n",
    "        labels.append(category)"
   ]
  },
  {
   "cell_type": "markdown",
   "metadata": {},
   "source": [
    "* **Perform One-hot encoding on the labels**"
   ]
  },
  {
   "cell_type": "code",
   "execution_count": 3,
   "metadata": {},
   "outputs": [],
   "source": [
    "lb =LabelBinarizer()\n",
    "labels = lb.fit_transform(labels)\n",
    "labels = to_categorical(labels) #Because convert from vector to matrix\n",
    "data = np.array(data,dtype='float32')\n",
    "labels = np.array(labels)\n",
    "(train_x ,test_x,train_y,test_y) = train_test_split(data,labels,test_size=0.20,stratify=labels,random_state=42)\n",
    "#random_state=42 sets the seed value for the random number generator to 42, ensuring reproducibility."
   ]
  },
  {
   "cell_type": "markdown",
   "metadata": {},
   "source": [
    "* **Make Data Agumentation by using ImageDataGenerator**"
   ]
  },
  {
   "cell_type": "code",
   "execution_count": 4,
   "metadata": {},
   "outputs": [],
   "source": [
    "aug = ImageDataGenerator(rotation_range=20,\n",
    "                         zoom_range=0.15,\n",
    "                         width_shift_range=0.2,\n",
    "                         height_shift_range=0.2,\n",
    "                         shear_range=0.15,\n",
    "                         horizontal_flip=True,\n",
    "                         fill_mode='nearest')"
   ]
  },
  {
   "cell_type": "markdown",
   "metadata": {},
   "source": [
    "* **Load MobileNetv2**"
   ]
  },
  {
   "cell_type": "code",
   "execution_count": 5,
   "metadata": {},
   "outputs": [
    {
     "name": "stdout",
     "output_type": "stream",
     "text": [
      "WARNING:tensorflow:From c:\\Users\\Alhou\\anaconda3\\Lib\\site-packages\\keras\\src\\backend.py:1398: The name tf.executing_eagerly_outside_functions is deprecated. Please use tf.compat.v1.executing_eagerly_outside_functions instead.\n",
      "\n",
      "WARNING:tensorflow:`input_shape` is undefined or non-square, or `rows` is not in [96, 128, 160, 192, 224]. Weights for input shape (224, 224) will be loaded as the default.\n",
      "WARNING:tensorflow:From c:\\Users\\Alhou\\anaconda3\\Lib\\site-packages\\keras\\src\\layers\\normalization\\batch_normalization.py:979: The name tf.nn.fused_batch_norm is deprecated. Please use tf.compat.v1.nn.fused_batch_norm instead.\n",
      "\n",
      "Downloading data from https://storage.googleapis.com/tensorflow/keras-applications/mobilenet_v2/mobilenet_v2_weights_tf_dim_ordering_tf_kernels_1.0_224_no_top.h5\n",
      "9406464/9406464 [==============================] - 5s 1us/step\n"
     ]
    }
   ],
   "source": [
    "baseModel = MobileNetV2(weights='imagenet',include_top=False,\n",
    "                        input_tensor =Input(shape=(224,224,3)))\n",
    "#Connstruct The head of the model that will be placed on a top of the base model\n",
    "headModel = baseModel.output#Create an output layer\n",
    "headModel = AveragePooling2D(pool_size=(7,7))(headModel)\n",
    "headModel = Flatten(name='Flatten_Layer')(headModel)\n",
    "headModel = Dense(units = 128 , activation ='relu')(headModel)\n",
    "headModel = Dropout(0.5)(headModel)\n",
    "headModel = Dense(units = 2 ,name ='Output_Layer',activation ='softmax')(headModel)\n",
    "#Place the head FC model On top of the base model\n",
    "# (this will become the actual model will will train)\n",
    "model = Model(inputs = baseModel.input , outputs = headModel)"
   ]
  },
  {
   "cell_type": "markdown",
   "metadata": {},
   "source": [
    "* **Loop over all Layers in the base model and freeze them**\n",
    "* **so they will `not` be updated during the first training process**"
   ]
  },
  {
   "cell_type": "code",
   "execution_count": 7,
   "metadata": {},
   "outputs": [
    {
     "name": "stdout",
     "output_type": "stream",
     "text": [
      "....................[INFO] Compiling Model.................\n",
      "....................[INFO] Training Head.....................\n",
      "Epoch 1/20\n",
      "WARNING:tensorflow:From c:\\Users\\Alhou\\anaconda3\\Lib\\site-packages\\keras\\src\\utils\\tf_utils.py:492: The name tf.ragged.RaggedTensorValue is deprecated. Please use tf.compat.v1.ragged.RaggedTensorValue instead.\n",
      "\n",
      "WARNING:tensorflow:From c:\\Users\\Alhou\\anaconda3\\Lib\\site-packages\\keras\\src\\engine\\base_layer_utils.py:384: The name tf.executing_eagerly_outside_functions is deprecated. Please use tf.compat.v1.executing_eagerly_outside_functions instead.\n",
      "\n",
      "95/95 [==============================] - 71s 712ms/step - loss: 0.4326 - accuracy: 0.8326 - val_loss: 0.1509 - val_accuracy: 0.9831\n",
      "Epoch 2/20\n",
      "95/95 [==============================] - 63s 667ms/step - loss: 0.1552 - accuracy: 0.9621 - val_loss: 0.0778 - val_accuracy: 0.9870\n",
      "Epoch 3/20\n",
      "95/95 [==============================] - 64s 671ms/step - loss: 0.1008 - accuracy: 0.9746 - val_loss: 0.0547 - val_accuracy: 0.9909\n",
      "Epoch 4/20\n",
      "95/95 [==============================] - 63s 667ms/step - loss: 0.0765 - accuracy: 0.9819 - val_loss: 0.0451 - val_accuracy: 0.9922\n",
      "Epoch 5/20\n",
      "95/95 [==============================] - 71s 750ms/step - loss: 0.0695 - accuracy: 0.9809 - val_loss: 0.0413 - val_accuracy: 0.9909\n",
      "Epoch 6/20\n",
      "95/95 [==============================] - 77s 816ms/step - loss: 0.0591 - accuracy: 0.9822 - val_loss: 0.0414 - val_accuracy: 0.9909\n",
      "Epoch 7/20\n",
      "95/95 [==============================] - 89s 934ms/step - loss: 0.0535 - accuracy: 0.9848 - val_loss: 0.0363 - val_accuracy: 0.9909\n",
      "Epoch 8/20\n",
      "95/95 [==============================] - 83s 868ms/step - loss: 0.0489 - accuracy: 0.9862 - val_loss: 0.0352 - val_accuracy: 0.9922\n",
      "Epoch 9/20\n",
      "95/95 [==============================] - 85s 894ms/step - loss: 0.0470 - accuracy: 0.9868 - val_loss: 0.0339 - val_accuracy: 0.9909\n",
      "Epoch 10/20\n",
      "95/95 [==============================] - 84s 884ms/step - loss: 0.0410 - accuracy: 0.9895 - val_loss: 0.0346 - val_accuracy: 0.9909\n",
      "Epoch 11/20\n",
      "95/95 [==============================] - 86s 903ms/step - loss: 0.0374 - accuracy: 0.9898 - val_loss: 0.0351 - val_accuracy: 0.9909\n",
      "Epoch 12/20\n",
      "95/95 [==============================] - 85s 898ms/step - loss: 0.0352 - accuracy: 0.9904 - val_loss: 0.0346 - val_accuracy: 0.9909\n",
      "Epoch 13/20\n",
      "95/95 [==============================] - 85s 893ms/step - loss: 0.0378 - accuracy: 0.9901 - val_loss: 0.0300 - val_accuracy: 0.9935\n",
      "Epoch 14/20\n",
      "95/95 [==============================] - 85s 896ms/step - loss: 0.0374 - accuracy: 0.9901 - val_loss: 0.0307 - val_accuracy: 0.9909\n",
      "Epoch 15/20\n",
      "95/95 [==============================] - 85s 897ms/step - loss: 0.0336 - accuracy: 0.9908 - val_loss: 0.0296 - val_accuracy: 0.9922\n",
      "Epoch 16/20\n",
      "95/95 [==============================] - 82s 865ms/step - loss: 0.0265 - accuracy: 0.9924 - val_loss: 0.0290 - val_accuracy: 0.9922\n",
      "Epoch 17/20\n",
      "95/95 [==============================] - 83s 872ms/step - loss: 0.0267 - accuracy: 0.9921 - val_loss: 0.0272 - val_accuracy: 0.9935\n",
      "Epoch 18/20\n",
      "95/95 [==============================] - 85s 897ms/step - loss: 0.0302 - accuracy: 0.9898 - val_loss: 0.0273 - val_accuracy: 0.9948\n",
      "Epoch 19/20\n",
      "95/95 [==============================] - 84s 881ms/step - loss: 0.0299 - accuracy: 0.9908 - val_loss: 0.0283 - val_accuracy: 0.9922\n",
      "Epoch 20/20\n",
      "95/95 [==============================] - 79s 835ms/step - loss: 0.0287 - accuracy: 0.9914 - val_loss: 0.0270 - val_accuracy: 0.9935\n"
     ]
    }
   ],
   "source": [
    "import tensorflow as tf \n",
    "for layer in baseModel.layers : layer.trainable = False\n",
    "#Compile Model \n",
    "print('....................[INFO] Compiling Model.................')\n",
    "opt =tf.keras.optimizers.legacy.Adam(learning_rate=intial_learning_rate,decay = intial_learning_rate / number_epochs)\n",
    "model.compile(loss='binary_crossentropy',optimizer=opt,metrics=['accuracy'])\n",
    "#Train Model \n",
    "print('....................[INFO] Training Head.....................')\n",
    "history = model.fit(\n",
    "    aug.flow(train_x,train_y,batch_size=batch_size),\n",
    "    steps_per_epoch = len(train_x)//batch_size,\n",
    "    validation_data =(test_x,test_y),\n",
    "    validation_steps=len(test_x)//batch_size,\n",
    "    epochs = number_epochs,\n",
    "    verbose = 1)"
   ]
  },
  {
   "cell_type": "markdown",
   "metadata": {},
   "source": [
    "* **Check and display**\n",
    "1. **Freezing Layers**\n",
    "2. **Used Layers**"
   ]
  },
  {
   "cell_type": "code",
   "execution_count": 10,
   "metadata": {},
   "outputs": [
    {
     "name": "stdout",
     "output_type": "stream",
     "text": [
      "input_1 ====================>  False   Layer\n",
      "Conv1 ====================>  False   Layer\n",
      "bn_Conv1 ====================>  False   Layer\n",
      "Conv1_relu ====================>  False   Layer\n",
      "expanded_conv_depthwise ====================>  False   Layer\n",
      "expanded_conv_depthwise_BN ====================>  False   Layer\n",
      "expanded_conv_depthwise_relu ====================>  False   Layer\n",
      "expanded_conv_project ====================>  False   Layer\n",
      "expanded_conv_project_BN ====================>  False   Layer\n",
      "block_1_expand ====================>  False   Layer\n",
      "block_1_expand_BN ====================>  False   Layer\n",
      "block_1_expand_relu ====================>  False   Layer\n",
      "block_1_pad ====================>  False   Layer\n",
      "block_1_depthwise ====================>  False   Layer\n",
      "block_1_depthwise_BN ====================>  False   Layer\n",
      "block_1_depthwise_relu ====================>  False   Layer\n",
      "block_1_project ====================>  False   Layer\n",
      "block_1_project_BN ====================>  False   Layer\n",
      "block_2_expand ====================>  False   Layer\n",
      "block_2_expand_BN ====================>  False   Layer\n",
      "block_2_expand_relu ====================>  False   Layer\n",
      "block_2_depthwise ====================>  False   Layer\n",
      "block_2_depthwise_BN ====================>  False   Layer\n",
      "block_2_depthwise_relu ====================>  False   Layer\n",
      "block_2_project ====================>  False   Layer\n",
      "block_2_project_BN ====================>  False   Layer\n",
      "block_2_add ====================>  False   Layer\n",
      "block_3_expand ====================>  False   Layer\n",
      "block_3_expand_BN ====================>  False   Layer\n",
      "block_3_expand_relu ====================>  False   Layer\n",
      "block_3_pad ====================>  False   Layer\n",
      "block_3_depthwise ====================>  False   Layer\n",
      "block_3_depthwise_BN ====================>  False   Layer\n",
      "block_3_depthwise_relu ====================>  False   Layer\n",
      "block_3_project ====================>  False   Layer\n",
      "block_3_project_BN ====================>  False   Layer\n",
      "block_4_expand ====================>  False   Layer\n",
      "block_4_expand_BN ====================>  False   Layer\n",
      "block_4_expand_relu ====================>  False   Layer\n",
      "block_4_depthwise ====================>  False   Layer\n",
      "block_4_depthwise_BN ====================>  False   Layer\n",
      "block_4_depthwise_relu ====================>  False   Layer\n",
      "block_4_project ====================>  False   Layer\n",
      "block_4_project_BN ====================>  False   Layer\n",
      "block_4_add ====================>  False   Layer\n",
      "block_5_expand ====================>  False   Layer\n",
      "block_5_expand_BN ====================>  False   Layer\n",
      "block_5_expand_relu ====================>  False   Layer\n",
      "block_5_depthwise ====================>  False   Layer\n",
      "block_5_depthwise_BN ====================>  False   Layer\n",
      "block_5_depthwise_relu ====================>  False   Layer\n",
      "block_5_project ====================>  False   Layer\n",
      "block_5_project_BN ====================>  False   Layer\n",
      "block_5_add ====================>  False   Layer\n",
      "block_6_expand ====================>  False   Layer\n",
      "block_6_expand_BN ====================>  False   Layer\n",
      "block_6_expand_relu ====================>  False   Layer\n",
      "block_6_pad ====================>  False   Layer\n",
      "block_6_depthwise ====================>  False   Layer\n",
      "block_6_depthwise_BN ====================>  False   Layer\n",
      "block_6_depthwise_relu ====================>  False   Layer\n",
      "block_6_project ====================>  False   Layer\n",
      "block_6_project_BN ====================>  False   Layer\n",
      "block_7_expand ====================>  False   Layer\n",
      "block_7_expand_BN ====================>  False   Layer\n",
      "block_7_expand_relu ====================>  False   Layer\n",
      "block_7_depthwise ====================>  False   Layer\n",
      "block_7_depthwise_BN ====================>  False   Layer\n",
      "block_7_depthwise_relu ====================>  False   Layer\n",
      "block_7_project ====================>  False   Layer\n",
      "block_7_project_BN ====================>  False   Layer\n",
      "block_7_add ====================>  False   Layer\n",
      "block_8_expand ====================>  False   Layer\n",
      "block_8_expand_BN ====================>  False   Layer\n",
      "block_8_expand_relu ====================>  False   Layer\n",
      "block_8_depthwise ====================>  False   Layer\n",
      "block_8_depthwise_BN ====================>  False   Layer\n",
      "block_8_depthwise_relu ====================>  False   Layer\n",
      "block_8_project ====================>  False   Layer\n",
      "block_8_project_BN ====================>  False   Layer\n",
      "block_8_add ====================>  False   Layer\n",
      "block_9_expand ====================>  False   Layer\n",
      "block_9_expand_BN ====================>  False   Layer\n",
      "block_9_expand_relu ====================>  False   Layer\n",
      "block_9_depthwise ====================>  False   Layer\n",
      "block_9_depthwise_BN ====================>  False   Layer\n",
      "block_9_depthwise_relu ====================>  False   Layer\n",
      "block_9_project ====================>  False   Layer\n",
      "block_9_project_BN ====================>  False   Layer\n",
      "block_9_add ====================>  False   Layer\n",
      "block_10_expand ====================>  False   Layer\n",
      "block_10_expand_BN ====================>  False   Layer\n",
      "block_10_expand_relu ====================>  False   Layer\n",
      "block_10_depthwise ====================>  False   Layer\n",
      "block_10_depthwise_BN ====================>  False   Layer\n",
      "block_10_depthwise_relu ====================>  False   Layer\n",
      "block_10_project ====================>  False   Layer\n",
      "block_10_project_BN ====================>  False   Layer\n",
      "block_11_expand ====================>  False   Layer\n",
      "block_11_expand_BN ====================>  False   Layer\n",
      "block_11_expand_relu ====================>  False   Layer\n",
      "block_11_depthwise ====================>  False   Layer\n",
      "block_11_depthwise_BN ====================>  False   Layer\n",
      "block_11_depthwise_relu ====================>  False   Layer\n",
      "block_11_project ====================>  False   Layer\n",
      "block_11_project_BN ====================>  False   Layer\n",
      "block_11_add ====================>  False   Layer\n",
      "block_12_expand ====================>  False   Layer\n",
      "block_12_expand_BN ====================>  False   Layer\n",
      "block_12_expand_relu ====================>  False   Layer\n",
      "block_12_depthwise ====================>  False   Layer\n",
      "block_12_depthwise_BN ====================>  False   Layer\n",
      "block_12_depthwise_relu ====================>  False   Layer\n",
      "block_12_project ====================>  False   Layer\n",
      "block_12_project_BN ====================>  False   Layer\n",
      "block_12_add ====================>  False   Layer\n",
      "block_13_expand ====================>  False   Layer\n",
      "block_13_expand_BN ====================>  False   Layer\n",
      "block_13_expand_relu ====================>  False   Layer\n",
      "block_13_pad ====================>  False   Layer\n",
      "block_13_depthwise ====================>  False   Layer\n",
      "block_13_depthwise_BN ====================>  False   Layer\n",
      "block_13_depthwise_relu ====================>  False   Layer\n",
      "block_13_project ====================>  False   Layer\n",
      "block_13_project_BN ====================>  False   Layer\n",
      "block_14_expand ====================>  False   Layer\n",
      "block_14_expand_BN ====================>  False   Layer\n",
      "block_14_expand_relu ====================>  False   Layer\n",
      "block_14_depthwise ====================>  False   Layer\n",
      "block_14_depthwise_BN ====================>  False   Layer\n",
      "block_14_depthwise_relu ====================>  False   Layer\n",
      "block_14_project ====================>  False   Layer\n",
      "block_14_project_BN ====================>  False   Layer\n",
      "block_14_add ====================>  False   Layer\n",
      "block_15_expand ====================>  False   Layer\n",
      "block_15_expand_BN ====================>  False   Layer\n",
      "block_15_expand_relu ====================>  False   Layer\n",
      "block_15_depthwise ====================>  False   Layer\n",
      "block_15_depthwise_BN ====================>  False   Layer\n",
      "block_15_depthwise_relu ====================>  False   Layer\n",
      "block_15_project ====================>  False   Layer\n",
      "block_15_project_BN ====================>  False   Layer\n",
      "block_15_add ====================>  False   Layer\n",
      "block_16_expand ====================>  False   Layer\n",
      "block_16_expand_BN ====================>  False   Layer\n",
      "block_16_expand_relu ====================>  False   Layer\n",
      "block_16_depthwise ====================>  False   Layer\n",
      "block_16_depthwise_BN ====================>  False   Layer\n",
      "block_16_depthwise_relu ====================>  False   Layer\n",
      "block_16_project ====================>  False   Layer\n",
      "block_16_project_BN ====================>  False   Layer\n",
      "Conv_1 ====================>  False   Layer\n",
      "Conv_1_bn ====================>  False   Layer\n",
      "out_relu ====================>  False   Layer\n",
      "average_pooling2d ====================>  True   Layer\n",
      "Flatten_Layer ====================>  True   Layer\n",
      "dense ====================>  True   Layer\n",
      "dropout ====================>  True   Layer\n",
      "Output_Layer ====================>  True   Layer\n"
     ]
    }
   ],
   "source": [
    "for i in model.layers: print(i.name , \"====================> \", i.trainable , \"  Layer\")"
   ]
  },
  {
   "cell_type": "markdown",
   "metadata": {},
   "source": [
    "* **Make Predictions on the `testing set`**"
   ]
  },
  {
   "cell_type": "code",
   "execution_count": 11,
   "metadata": {},
   "outputs": [
    {
     "name": "stdout",
     "output_type": "stream",
     "text": [
      "........[INFO] Evaluating Network...\n",
      "24/24 [==============================] - 12s 424ms/step\n"
     ]
    }
   ],
   "source": [
    "print(\"........[INFO] Evaluating Network...\")\n",
    "predIdx = model.predict(test_x,batch_size = batch_size)\n",
    "#For each image in the testing set we need to find index of the \n",
    "# Label with crossponding largest predicted probability\n",
    "predIdx=np.argmax(predIdx,axis=1)"
   ]
  },
  {
   "cell_type": "markdown",
   "metadata": {},
   "source": [
    "* **Classification Repor**"
   ]
  },
  {
   "cell_type": "code",
   "execution_count": 12,
   "metadata": {},
   "outputs": [
    {
     "name": "stdout",
     "output_type": "stream",
     "text": [
      "              precision    recall  f1-score   support\n",
      "\n",
      "   with_mask       0.99      0.99      0.99       383\n",
      "without_mask       0.99      0.99      0.99       384\n",
      "\n",
      "    accuracy                           0.99       767\n",
      "   macro avg       0.99      0.99      0.99       767\n",
      "weighted avg       0.99      0.99      0.99       767\n",
      "\n"
     ]
    }
   ],
   "source": [
    "print(classification_report(test_y.argmax(axis = 1),predIdx,target_names=lb.classes_))"
   ]
  },
  {
   "cell_type": "markdown",
   "metadata": {},
   "source": [
    "* **Serialize the model to disk**"
   ]
  },
  {
   "cell_type": "code",
   "execution_count": 13,
   "metadata": {},
   "outputs": [
    {
     "name": "stdout",
     "output_type": "stream",
     "text": [
      ".......[INFO]..Saving mask detector model....\n"
     ]
    },
    {
     "name": "stderr",
     "output_type": "stream",
     "text": [
      "c:\\Users\\Alhou\\anaconda3\\Lib\\site-packages\\keras\\src\\engine\\training.py:3103: UserWarning: You are saving your model as an HDF5 file via `model.save()`. This file format is considered legacy. We recommend using instead the native Keras format, e.g. `model.save('my_model.keras')`.\n",
      "  saving_api.save_model(\n"
     ]
    }
   ],
   "source": [
    "print('.......[INFO]..Saving mask detector model....')\n",
    "model.save(\"mask_detector.model\",save_format = 'h5')"
   ]
  },
  {
   "cell_type": "markdown",
   "metadata": {},
   "source": [
    "* **Plot The training Loss and accuracy**"
   ]
  },
  {
   "cell_type": "code",
   "execution_count": 14,
   "metadata": {},
   "outputs": [
    {
     "data": {
      "image/png": "[encoded data removed]",
      "text/plain": [
       "<Figure size 640x480 with 1 Axes>"
      ]
     },
     "metadata": {},
     "output_type": "display_data"
    }
   ],
   "source": [
    "N = number_epochs\n",
    "plt.style.use(\"ggplot\")\n",
    "plt.figure() \n",
    "plt.plot(np.arange(0,N),history.history[\"loss\"],label = \"train_loss\")\n",
    "plt.plot(np.arange(0,N),history.history[\"val_loss\"],label =\"val_loss\")\n",
    "plt.plot(np.arange(0,N),history.history[\"accuracy\"],label =\"train_acc\")\n",
    "plt.plot(np.arange(0,N),history.history[\"val_accuracy\"], label =\"val_acc\")\n",
    "plt.title(\"Training Loss and Accuracy\")\n",
    "plt.xlabel('Epoch #')\n",
    "plt.ylabel(\"Loss/Accuracy\")\n",
    "plt.legend(loc = \"lower left\")\n",
    "plt.savefig(\"plot.png\")"
   ]
  }
 ],
 "metadata": {
  "kernelspec": {
   "display_name": "base",
   "language": "python",
   "name": "python3"
  },
  "language_info": {
   "codemirror_mode": {
    "name": "ipython",
    "version": 3
   },
   "file_extension": ".py",
   "mimetype": "text/x-python",
   "name": "python",
   "nbconvert_exporter": "python",
   "pygments_lexer": "ipython3",
   "version": "3.11.5"
  }
 },
 "nbformat": 4,
 "nbformat_minor": 2
}
